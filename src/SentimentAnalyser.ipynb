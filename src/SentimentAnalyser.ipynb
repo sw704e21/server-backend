{
 "cells": [
  {
   "cell_type": "code",
   "execution_count": 1,
   "outputs": [],
   "source": [
    "from IPython import display\n",
    "import math\n",
    "from pprint import pprint\n",
    "import pandas as pd\n",
    "import numpy as np\n",
    "import nltk\n",
    "import matplotlib.pyplot as plt\n",
    "import seaborn as sns\n",
    "sns.set(style='darkgrid', context='talk', palette='Dark2')"
   ],
   "metadata": {
    "collapsed": false,
    "pycharm": {
     "name": "#%%\n"
    }
   }
  },
  {
   "cell_type": "code",
   "execution_count": null,
   "outputs": [],
   "source": [
    "nltk.download()\n",
    "\n",
    "\n"
   ],
   "metadata": {
    "collapsed": false,
    "pycharm": {
     "name": "#%%\n"
    }
   }
  },
  {
   "cell_type": "markdown",
   "source": [
    "Fetch reddit API user data\n"
   ],
   "metadata": {
    "collapsed": false
   }
  },
  {
   "cell_type": "code",
   "execution_count": null,
   "outputs": [],
   "source": [
    "import praw\n",
    "\n",
    "reddit = praw.Reddit(client_id='y9aowlfsW7dLZyFuyrpH-w',\n",
    "                     client_secret='3PSSrFjw7RX-nG6xfyFx_IFd74PHbQ',\n",
    "                     user_agent='Huften')"
   ],
   "metadata": {
    "collapsed": false,
    "pycharm": {
     "name": "#%%\n"
    }
   }
  },
  {
   "cell_type": "markdown",
   "source": [
    "Initialize headlines and posts objects"
   ],
   "metadata": {
    "collapsed": false,
    "pycharm": {
     "name": "#%% md\n"
    }
   }
  },
  {
   "cell_type": "code",
   "execution_count": 4,
   "outputs": [],
   "source": [
    "headlines = set()\n",
    "postText = set()"
   ],
   "metadata": {
    "collapsed": false,
    "pycharm": {
     "name": "#%%\n"
    }
   }
  },
  {
   "cell_type": "markdown",
   "source": [
    "Loop over headlines and posts on a Subreddit"
   ],
   "metadata": {
    "collapsed": false,
    "pycharm": {
     "name": "#%% md\n"
    }
   }
  },
  {
   "cell_type": "code",
   "execution_count": 5,
   "outputs": [
    {
     "name": "stdout",
     "output_type": "stream",
     "text": [
      "100\n"
     ]
    }
   ],
   "source": [
    "for submission in reddit.subreddit('bitcoin').new(limit=100):\n",
    "    headlines.add(submission.title)\n",
    "    postText.add(submission.selftext)\n",
    "    display.clear_output()\n",
    "    print(len(headlines))"
   ],
   "metadata": {
    "collapsed": false,
    "pycharm": {
     "name": "#%%\n"
    }
   }
  },
  {
   "cell_type": "markdown",
   "source": [
    "Perform vader sentiment analysis on headlines"
   ],
   "metadata": {
    "collapsed": false,
    "pycharm": {
     "name": "#%% md\n"
    }
   }
  },
  {
   "cell_type": "code",
   "execution_count": 6,
   "outputs": [
    {
     "name": "stdout",
     "output_type": "stream",
     "text": [
      "[{'compound': 0.4767,\n",
      "  'headline': 'The next bitcoin halving will be in approximately 909 days. Keep on stacking my '\n",
      "              'friends while bitcoin is cheap.',\n",
      "  'neg': 0.0,\n",
      "  'neu': 0.853,\n",
      "  'pos': 0.147},\n",
      " {'compound': 0.128,\n",
      "  'headline': 'Bitcoiners Are The Slave that Broke Free | Dr. Jack Kruse',\n",
      "  'neg': 0.199,\n",
      "  'neu': 0.567,\n",
      "  'pos': 0.234},\n",
      " {'compound': -0.2732,\n",
      "  'headline': 'Russia doesn’t plan to ban crypto outrightly like China, says deputy finance '\n",
      "              'minister',\n",
      "  'neg': 0.211,\n",
      "  'neu': 0.643,\n",
      "  'pos': 0.146}]\n"
     ]
    }
   ],
   "source": [
    "from nltk.sentiment.vader import SentimentIntensityAnalyzer as SIA\n",
    "\n",
    "sia = SIA()\n",
    "results = []\n",
    "\n",
    "for line in headlines:\n",
    "    pol_score = sia.polarity_scores(line)\n",
    "    pol_score['headline'] = line\n",
    "    results.append(pol_score)\n",
    "\n",
    "pprint(results[:3], width=100)"
   ],
   "metadata": {
    "collapsed": false,
    "pycharm": {
     "name": "#%%\n"
    }
   }
  },
  {
   "cell_type": "markdown",
   "source": [
    "Perform vader sentiment analysis on Posts"
   ],
   "metadata": {
    "collapsed": false,
    "pycharm": {
     "name": "#%% md\n"
    }
   }
  },
  {
   "cell_type": "code",
   "execution_count": null,
   "outputs": [],
   "source": [
    "from nltk.sentiment.vader import SentimentIntensityAnalyzer as SIA\n",
    "\n",
    "sia = SIA()\n",
    "results = []\n",
    "\n",
    "for text in postText:\n",
    "    pol_score = sia.polarity_scores(text)\n",
    "    pol_score['post text'] = text\n",
    "    results.append(pol_score)\n",
    "print(pol_score)\n",
    "pprint(results[:3], width=100)"
   ],
   "metadata": {
    "collapsed": false,
    "pycharm": {
     "name": "#%%\n"
    }
   }
  },
  {
   "cell_type": "markdown",
   "source": [
    "Create a table of analysis data for result(headlines or posts)"
   ],
   "metadata": {
    "collapsed": false,
    "pycharm": {
     "name": "#%% md\n"
    }
   }
  },
  {
   "cell_type": "code",
   "execution_count": 7,
   "outputs": [
    {
     "data": {
      "text/plain": "     neg    neu    pos  compound  \\\n0  0.000  0.853  0.147    0.4767   \n1  0.199  0.567  0.234    0.1280   \n2  0.211  0.643  0.146   -0.2732   \n3  0.000  0.734  0.266    0.4404   \n4  0.000  0.616  0.384    0.6808   \n\n                                            headline  \n0  The next bitcoin halving will be in approximat...  \n1  Bitcoiners Are The Slave that Broke Free | Dr....  \n2  Russia doesn’t plan to ban crypto outrightly l...  \n3  why run a business if HODLing BTC gives better...  \n4  This was definitely a first for everyone invol...  ",
      "text/html": "<div>\n<style scoped>\n    .dataframe tbody tr th:only-of-type {\n        vertical-align: middle;\n    }\n\n    .dataframe tbody tr th {\n        vertical-align: top;\n    }\n\n    .dataframe thead th {\n        text-align: right;\n    }\n</style>\n<table border=\"1\" class=\"dataframe\">\n  <thead>\n    <tr style=\"text-align: right;\">\n      <th></th>\n      <th>neg</th>\n      <th>neu</th>\n      <th>pos</th>\n      <th>compound</th>\n      <th>headline</th>\n    </tr>\n  </thead>\n  <tbody>\n    <tr>\n      <th>0</th>\n      <td>0.000</td>\n      <td>0.853</td>\n      <td>0.147</td>\n      <td>0.4767</td>\n      <td>The next bitcoin halving will be in approximat...</td>\n    </tr>\n    <tr>\n      <th>1</th>\n      <td>0.199</td>\n      <td>0.567</td>\n      <td>0.234</td>\n      <td>0.1280</td>\n      <td>Bitcoiners Are The Slave that Broke Free | Dr....</td>\n    </tr>\n    <tr>\n      <th>2</th>\n      <td>0.211</td>\n      <td>0.643</td>\n      <td>0.146</td>\n      <td>-0.2732</td>\n      <td>Russia doesn’t plan to ban crypto outrightly l...</td>\n    </tr>\n    <tr>\n      <th>3</th>\n      <td>0.000</td>\n      <td>0.734</td>\n      <td>0.266</td>\n      <td>0.4404</td>\n      <td>why run a business if HODLing BTC gives better...</td>\n    </tr>\n    <tr>\n      <th>4</th>\n      <td>0.000</td>\n      <td>0.616</td>\n      <td>0.384</td>\n      <td>0.6808</td>\n      <td>This was definitely a first for everyone invol...</td>\n    </tr>\n  </tbody>\n</table>\n</div>"
     },
     "execution_count": 7,
     "metadata": {},
     "output_type": "execute_result"
    }
   ],
   "source": [
    "df = pd.DataFrame.from_records(results)\n",
    "df.head()"
   ],
   "metadata": {
    "collapsed": false,
    "pycharm": {
     "name": "#%%\n"
    }
   }
  },
  {
   "cell_type": "markdown",
   "source": [
    "Create a table of analysis data for result with a label\n",
    "1 = mostly positive, 0 = neutral, -1 = mostly negative"
   ],
   "metadata": {
    "collapsed": false,
    "pycharm": {
     "name": "#%% md\n"
    }
   }
  },
  {
   "cell_type": "code",
   "execution_count": 8,
   "outputs": [
    {
     "data": {
      "text/plain": "     neg    neu    pos  compound  \\\n0  0.000  0.853  0.147    0.4767   \n1  0.199  0.567  0.234    0.1280   \n2  0.211  0.643  0.146   -0.2732   \n3  0.000  0.734  0.266    0.4404   \n4  0.000  0.616  0.384    0.6808   \n\n                                            headline  label  \n0  The next bitcoin halving will be in approximat...      1  \n1  Bitcoiners Are The Slave that Broke Free | Dr....      0  \n2  Russia doesn’t plan to ban crypto outrightly l...     -1  \n3  why run a business if HODLing BTC gives better...      1  \n4  This was definitely a first for everyone invol...      1  ",
      "text/html": "<div>\n<style scoped>\n    .dataframe tbody tr th:only-of-type {\n        vertical-align: middle;\n    }\n\n    .dataframe tbody tr th {\n        vertical-align: top;\n    }\n\n    .dataframe thead th {\n        text-align: right;\n    }\n</style>\n<table border=\"1\" class=\"dataframe\">\n  <thead>\n    <tr style=\"text-align: right;\">\n      <th></th>\n      <th>neg</th>\n      <th>neu</th>\n      <th>pos</th>\n      <th>compound</th>\n      <th>headline</th>\n      <th>label</th>\n    </tr>\n  </thead>\n  <tbody>\n    <tr>\n      <th>0</th>\n      <td>0.000</td>\n      <td>0.853</td>\n      <td>0.147</td>\n      <td>0.4767</td>\n      <td>The next bitcoin halving will be in approximat...</td>\n      <td>1</td>\n    </tr>\n    <tr>\n      <th>1</th>\n      <td>0.199</td>\n      <td>0.567</td>\n      <td>0.234</td>\n      <td>0.1280</td>\n      <td>Bitcoiners Are The Slave that Broke Free | Dr....</td>\n      <td>0</td>\n    </tr>\n    <tr>\n      <th>2</th>\n      <td>0.211</td>\n      <td>0.643</td>\n      <td>0.146</td>\n      <td>-0.2732</td>\n      <td>Russia doesn’t plan to ban crypto outrightly l...</td>\n      <td>-1</td>\n    </tr>\n    <tr>\n      <th>3</th>\n      <td>0.000</td>\n      <td>0.734</td>\n      <td>0.266</td>\n      <td>0.4404</td>\n      <td>why run a business if HODLing BTC gives better...</td>\n      <td>1</td>\n    </tr>\n    <tr>\n      <th>4</th>\n      <td>0.000</td>\n      <td>0.616</td>\n      <td>0.384</td>\n      <td>0.6808</td>\n      <td>This was definitely a first for everyone invol...</td>\n      <td>1</td>\n    </tr>\n  </tbody>\n</table>\n</div>"
     },
     "execution_count": 8,
     "metadata": {},
     "output_type": "execute_result"
    }
   ],
   "source": [
    "df['label'] = 0\n",
    "df.loc[df['compound'] > 0.2, 'label'] = 1\n",
    "df.loc[df['compound'] < -0.2, 'label'] = -1\n",
    "df.head()"
   ],
   "metadata": {
    "collapsed": false,
    "pycharm": {
     "name": "#%%\n"
    }
   }
  },
  {
   "cell_type": "markdown",
   "source": [
    "Create a .csv file with results(headlines or posts) and their label"
   ],
   "metadata": {
    "collapsed": false,
    "pycharm": {
     "name": "#%% md\n"
    }
   }
  },
  {
   "cell_type": "code",
   "execution_count": 9,
   "outputs": [],
   "source": [
    "df2 = df[['headline', 'label']]\n",
    "df2.to_csv('reddit_headlines_labels.csv', mode='a', encoding='utf-8', index=False)"
   ],
   "metadata": {
    "collapsed": false,
    "pycharm": {
     "name": "#%%\n"
    }
   }
  },
  {
   "cell_type": "markdown",
   "source": [
    "Print a results and their label"
   ],
   "metadata": {
    "collapsed": false,
    "pycharm": {
     "name": "#%% md\n"
    }
   }
  },
  {
   "cell_type": "code",
   "execution_count": 10,
   "outputs": [
    {
     "name": "stdout",
     "output_type": "stream",
     "text": [
      "Positive headlines:\n",
      "\n",
      "['The next bitcoin halving will be in approximately 909 days. Keep on stacking my friends while bitcoin is cheap.',\n",
      " 'why run a business if HODLing BTC gives better returns?',\n",
      " 'This was definitely a first for everyone involved. Thanks Suzuki El Salvador.',\n",
      " 'Venezuelan international airport to accept Bitcoin payments - Report',\n",
      " 'Jamie Dimon Is GREAT For Bitcoin- ANTHONY POMPLIANO IS BACK ON YOUTUBE WITH BITCOIN VIDEOS BEING FLOODED OUT! Time To Revolt…Bitcoin To The Moon 🌚 🚀']\n",
      "\n",
      "Negative headlines:\n",
      "\n",
      "['Russia doesn’t plan to ban crypto outrightly like China, says deputy finance minister',\n",
      " 'Bitcoin Whales Continue to Grow as BTC Charges Past $56k',\n",
      " 'Bitcoin Under Major Attack (Again)',\n",
      " 'How to take down a scam website before it’s too late?',\n",
      " 'Truth about BITCOIN | When BTC CRASH? Cryptocurrency & Blockchain Explained']\n"
     ]
    }
   ],
   "source": [
    "print(\"Positive headlines:\\n\")\n",
    "pprint(list(df[df['label'] == 1].headline)[:5], width=200)\n",
    "\n",
    "print(\"\\nNegative headlines:\\n\")\n",
    "pprint(list(df[df['label'] == -1].headline)[:5], width=200)"
   ],
   "metadata": {
    "collapsed": false,
    "pycharm": {
     "name": "#%%\n"
    }
   }
  },
  {
   "cell_type": "markdown",
   "source": [
    "Plot graph of label percentage representation"
   ],
   "metadata": {
    "collapsed": false,
    "pycharm": {
     "name": "#%% md\n"
    }
   }
  },
  {
   "cell_type": "code",
   "execution_count": 11,
   "outputs": [
    {
     "data": {
      "text/plain": "<Figure size 576x576 with 1 Axes>",
      "image/png": "[encoded data removed]"
     },
     "metadata": {},
     "output_type": "display_data"
    }
   ],
   "source": [
    "fig, ax = plt.subplots(figsize=(8, 8))\n",
    "\n",
    "counts = df.label.value_counts(normalize=True) * 100\n",
    "\n",
    "sns.barplot(x=counts.index, y=counts, ax=ax)\n",
    "\n",
    "ax.set_xticklabels(['Negative', 'Neutral', 'Positive'])\n",
    "ax.set_ylabel(\"Percentage\")\n",
    "\n",
    "plt.show()"
   ],
   "metadata": {
    "collapsed": false,
    "pycharm": {
     "name": "#%%\n"
    }
   }
  },
  {
   "cell_type": "markdown",
   "source": [],
   "metadata": {
    "collapsed": false
   }
  }
 ],
 "metadata": {
  "kernelspec": {
   "display_name": "Python 3",
   "language": "python",
   "name": "python3"
  },
  "language_info": {
   "codemirror_mode": {
    "name": "ipython",
    "version": 2
   },
   "file_extension": ".py",
   "mimetype": "text/x-python",
   "name": "python",
   "nbconvert_exporter": "python",
   "pygments_lexer": "ipython2",
   "version": "2.7.6"
  }
 },
 "nbformat": 4,
 "nbformat_minor": 0
}